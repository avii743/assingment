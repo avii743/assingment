{
 "cells": [
  {
   "cell_type": "markdown",
   "metadata": {},
   "source": [
    "# Write a Python Program to implement your own myreduce() function which works exactly like Python's built-in function reduce()"
   ]
  },
  {
   "cell_type": "markdown",
   "metadata": {},
   "source": [
    "# Question 1.1"
   ]
  },
  {
   "cell_type": "code",
   "execution_count": 193,
   "metadata": {},
   "outputs": [
    {
     "name": "stdout",
     "output_type": "stream",
     "text": [
      "Enter the number10\n",
      "list of natural number:- [1, 2, 3, 4, 5, 6, 7, 8, 9, 10]\n",
      "product of natural number:- 3628800\n"
     ]
    }
   ],
   "source": [
    "#create my own myreduce which sum natural number\n",
    "\n",
    "import functools\n",
    "def myreduce(x):\n",
    "    my_list=list(range(1,x+1))\n",
    "    sum =1\n",
    "    for i in my_list: \n",
    "        sum=sum*i\n",
    "    return my_list,sum\n",
    "\n",
    "#input\n",
    "x=int(input(\"Enter the number\"))\n",
    "\n",
    "#function excecution\n",
    "output_value = myreduce(x)\n",
    "\n",
    "#output\n",
    "print(\"list of natural number:-\",output_value[0])\n",
    "print(\"product of natural number:-\",output_value[1])"
   ]
  },
  {
   "cell_type": "code",
   "execution_count": 194,
   "metadata": {},
   "outputs": [
    {
     "name": "stdout",
     "output_type": "stream",
     "text": [
      "Enter the num :10\n",
      "list of natural number [1, 2, 3, 4, 5, 6, 7, 8, 9, 10]\n",
      "sum of natural number is 3628800\n"
     ]
    }
   ],
   "source": [
    "#inbuilt reduce function\n",
    "number= int(input(\"Enter the num :\"))\n",
    "\n",
    "my_list=list(range(1,number+1))\n",
    "red=functools.reduce(lambda x,y:x*y,my_list)\n",
    "\n",
    "#output\n",
    "print(\"list of natural number\",my_list)\n",
    "print(\"sum of natural number is\",red)"
   ]
  },
  {
   "cell_type": "markdown",
   "metadata": {},
   "source": [
    "# Write a Python program to implement your own myfilter() function which works exactly like Python's built-in function filter()"
   ]
  },
  {
   "cell_type": "code",
   "execution_count": 201,
   "metadata": {},
   "outputs": [],
   "source": [
    "#Number between 0 and 100 divisible by 2&4\n",
    "def myfilter():\n",
    "    x=[]\n",
    "    for i in list(range(0,50)):\n",
    "         if i%2==0:\n",
    "            x.append(str(i))\n",
    "    print(','.join(x))\n",
    "    \n",
    "    x=[]\n",
    "    for i in list(range(0,50)):\n",
    "          if i%4==0:\n",
    "            x.append(str(i))\n",
    "    print(\",\".join(x))\n",
    "\n",
    "\n",
    "    "
   ]
  },
  {
   "cell_type": "code",
   "execution_count": 202,
   "metadata": {},
   "outputs": [
    {
     "name": "stdout",
     "output_type": "stream",
     "text": [
      "0,2,4,6,8,10,12,14,16,18,20,22,24,26,28,30,32,34,36,38,40,42,44,46,48\n",
      "0,4,8,12,16,20,24,28,32,36,40,44,48\n"
     ]
    }
   ],
   "source": [
    "myfilter()"
   ]
  },
  {
   "cell_type": "code",
   "execution_count": 164,
   "metadata": {},
   "outputs": [
    {
     "name": "stdout",
     "output_type": "stream",
     "text": [
      "Number divide by 2:- [0, 2, 4, 6, 8, 10, 12, 14, 16, 18, 20, 22, 24, 26, 28, 30, 32, 34, 36, 38, 40, 42, 44, 46, 48]\n",
      "Number divide by 4:- [0, 4, 8, 12, 16, 20, 24, 28, 32, 36, 40, 44, 48]\n"
     ]
    }
   ],
   "source": [
    "#inbuilt filter function\n",
    "#Number between 0 and 100 divisible by 2&4\n",
    "my_list = list(range(0,50))\n",
    "\n",
    "number = filter(lambda x: x%2==0,my_list)\n",
    "print(\"Number divide by 2:-\",list(number))\n",
    "\n",
    "number = filter(lambda x: x%4==0,my_list)\n",
    "print(\"Number divide by 4:-\",list(number))\n"
   ]
  },
  {
   "cell_type": "markdown",
   "metadata": {},
   "source": [
    "# QUESTION 2 Implement List comprehensions to produce the following lists.Write List comprehensions to produce the following Lists"
   ]
  },
  {
   "cell_type": "code",
   "execution_count": 210,
   "metadata": {},
   "outputs": [
    {
     "name": "stdout",
     "output_type": "stream",
     "text": [
      "['x', 'xx', 'xxx', 'xxxx', 'y', 'yy', 'yyy', 'yyyy', 'z', 'zz', 'zzz', 'zzzz']\n"
     ]
    }
   ],
   "source": [
    "letters = list('xyz')\n",
    "pattern = []\n",
    "[pattern.append(letters[i]*j) for i in range(len(letters)) for j in range(1,5)]\n",
    "print(pattern) "
   ]
  },
  {
   "cell_type": "code",
   "execution_count": 212,
   "metadata": {},
   "outputs": [
    {
     "name": "stdout",
     "output_type": "stream",
     "text": [
      "['x', 'y', 'z', 'xx', 'yy', 'zz', 'xxx', 'yyy', 'zzz', 'xxxx', 'yyyy', 'zzzz']\n"
     ]
    }
   ],
   "source": [
    "letters = list('xyz')\n",
    "pattern = []\n",
    "[pattern.append(letters[i]*j) for j in range(1,5) for i in range(len(letters))]\n",
    "print(pattern) "
   ]
  },
  {
   "cell_type": "code",
   "execution_count": 213,
   "metadata": {},
   "outputs": [
    {
     "name": "stdout",
     "output_type": "stream",
     "text": [
      "[[2], [3], [4], [3], [4], [5], [4], [5], [6]]\n"
     ]
    }
   ],
   "source": [
    "number = [2,3,4,]\n",
    "number2= [[i+j] for i in number for j in range(0,3)]\n",
    "print(number2)"
   ]
  },
  {
   "cell_type": "code",
   "execution_count": 219,
   "metadata": {},
   "outputs": [
    {
     "name": "stdout",
     "output_type": "stream",
     "text": [
      "[[2, 3, 4, 5], [3, 4, 5, 6], [4, 5, 6, 7], [5, 6, 7, 8]]\n"
     ]
    }
   ],
   "source": [
    "number3 = [2,3,4,5]\n",
    "number4= [[i+j for j in range(0,4)] for i in number3]\n",
    "print(number4)"
   ]
  },
  {
   "cell_type": "code",
   "execution_count": 224,
   "metadata": {},
   "outputs": [
    {
     "name": "stdout",
     "output_type": "stream",
     "text": [
      "[(1, 1), (2, 1), (3, 1), (1, 2), (2, 2), (3, 2), (1, 3), (2, 3), (3, 3)]\n"
     ]
    }
   ],
   "source": [
    "number5 = [1,2,3]\n",
    "number6= [(j,i) for i in number5 for j in number5]\n",
    "print(number6)"
   ]
  },
  {
   "cell_type": "code",
   "execution_count": null,
   "metadata": {},
   "outputs": [],
   "source": []
  }
 ],
 "metadata": {
  "kernelspec": {
   "display_name": "Python 3",
   "language": "python",
   "name": "python3"
  },
  "language_info": {
   "codemirror_mode": {
    "name": "ipython",
    "version": 3
   },
   "file_extension": ".py",
   "mimetype": "text/x-python",
   "name": "python",
   "nbconvert_exporter": "python",
   "pygments_lexer": "ipython3",
   "version": "3.8.3"
  }
 },
 "nbformat": 4,
 "nbformat_minor": 4
}
