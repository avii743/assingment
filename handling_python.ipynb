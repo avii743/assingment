{
  "nbformat": 4,
  "nbformat_minor": 0,
  "metadata": {
    "colab": {
      "name": "handling_python.ipynb",
      "provenance": []
    },
    "kernelspec": {
      "name": "python3",
      "display_name": "Python 3"
    },
    "language_info": {
      "name": "python"
    }
  },
  "cells": [
    {
      "cell_type": "markdown",
      "source": [
        "Write a function to compute 5/0 and use try/except to catch the exceptions.\n"
      ],
      "metadata": {
        "id": "aEj_Ol0wWUkV"
      }
    },
    {
      "cell_type": "code",
      "source": [
        "def divide():\n",
        "    return 5/0\n",
        "\n",
        "try:\n",
        "    divide()\n",
        "except ZeroDivisionError as ze:\n",
        "    print(\"maamaiya are you joking!!\")\n",
        "except:\n",
        "    print(\"Any other exception\")"
      ],
      "metadata": {
        "colab": {
          "base_uri": "https://localhost:8080/"
        },
        "id": "W9sM5FbIS7TU",
        "outputId": "b59d3480-1a79-4c3c-8312-8a56fa9a408f"
      },
      "execution_count": 28,
      "outputs": [
        {
          "output_type": "stream",
          "name": "stdout",
          "text": [
            "maamaiya are you joking!!\n"
          ]
        }
      ]
    },
    {
      "cell_type": "markdown",
      "source": [
        "Implement a Python program to generate all sentences where subject is in\n",
        "[\"Americans\", \"Indians\"] and verb is in [\"Play\", \"watch\"] and the object is in\n",
        "[\"Baseball\",\"cricket\"].\n"
      ],
      "metadata": {
        "id": "3MjjWHX0WZTM"
      }
    },
    {
      "cell_type": "code",
      "source": [
        "\n",
        "subject=[\"Americans\",\"Indians\"]\n",
        "verb=[\"play\",\"watch\"]\n",
        "objects=[\"Baseball\",\"Cricket\"]\n",
        "\n",
        "# List Comprehension\n",
        "Syntax = [(Sub+' '+vrb+' '+Objct+\".\") for Sub in subject for vrb in verb for Objct in objects]\n",
        "\n",
        "#for Loop for Iteration\n",
        "print(\"Output:\")\n",
        "\n",
        "for syn in Syntax:    \n",
        "    print(syn)"
      ],
      "metadata": {
        "colab": {
          "base_uri": "https://localhost:8080/"
        },
        "id": "dov5XBI9Vlc9",
        "outputId": "2a3b3bdf-6436-403f-c6a0-362629314741"
      },
      "execution_count": 29,
      "outputs": [
        {
          "output_type": "stream",
          "name": "stdout",
          "text": [
            "Output:\n",
            "Americans play Baseball.\n",
            "Americans play Cricket.\n",
            "Americans watch Baseball.\n",
            "Americans watch Cricket.\n",
            "Indians play Baseball.\n",
            "Indians play Cricket.\n",
            "Indians watch Baseball.\n",
            "Indians watch Cricket.\n"
          ]
        }
      ]
    },
    {
      "cell_type": "code",
      "source": [
        ""
      ],
      "metadata": {
        "id": "clbPHDljWQZ_"
      },
      "execution_count": null,
      "outputs": []
    }
  ]
}