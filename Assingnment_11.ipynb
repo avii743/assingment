{
  "nbformat": 4,
  "nbformat_minor": 0,
  "metadata": {
    "colab": {
      "name": "Assingnment_11.ipynb",
      "provenance": []
    },
    "kernelspec": {
      "name": "python3",
      "display_name": "Python 3"
    },
    "language_info": {
      "name": "python"
    }
  },
  "cells": [
    {
      "cell_type": "markdown",
      "source": [
        "Write a program which will find all such numbers which are divisible by 7 but are not a multiple of 5, between 2000 and 3200 (both included). The numbers obtained should be printed\n",
        "in a comma-separated sequence on a single line."
      ],
      "metadata": {
        "id": "wQ5j6SsdOmms"
      }
    },
    {
      "cell_type": "code",
      "execution_count": 1,
      "metadata": {
        "colab": {
          "base_uri": "https://localhost:8080/"
        },
        "id": "k-hiBLiYNsqw",
        "outputId": "cc8b1a3a-07f8-4759-8575-c2c98810a830"
      },
      "outputs": [
        {
          "output_type": "stream",
          "name": "stdout",
          "text": [
            "2002,2009,2016,2023,2037,2044,2051,2058,2072,2079,2086,2093,2107,2114,2121,2128,2142,2149,2156,2163,2177,2184,2191,2198,2212,2219,2226,2233,2247,2254,2261,2268,2282,2289,2296,2303,2317,2324,2331,2338,2352,2359,2366,2373,2387,2394,2401,2408,2422,2429,2436,2443,2457,2464,2471,2478,2492,2499,2506,2513,2527,2534,2541,2548,2562,2569,2576,2583,2597,2604,2611,2618,2632,2639,2646,2653,2667,2674,2681,2688,2702,2709,2716,2723,2737,2744,2751,2758,2772,2779,2786,2793,2807,2814,2821,2828,2842,2849,2856,2863,2877,2884,2891,2898,2912,2919,2926,2933,2947,2954,2961,2968,2982,2989,2996,3003,3017,3024,3031,3038,3052,3059,3066,3073,3087,3094,3101,3108,3122,3129,3136,3143,3157,3164,3171,3178,3192,3199\n"
          ]
        }
      ],
      "source": [
        "nl=[]\n",
        "for x in range(2000, 3200):\n",
        "    if (x%7==0) and (x%5!=0):\n",
        "        nl.append(str(x))\n",
        "print (','.join(nl))"
      ]
    },
    {
      "cell_type": "markdown",
      "source": [
        "Write a Python program to accept the user's first and last name and then getting them printed in the the reverse order with a space between first name and last name.\n"
      ],
      "metadata": {
        "id": "pL5VZltQRBGx"
      }
    },
    {
      "cell_type": "code",
      "source": [
        "firstname = input(\"Input your First Name : \")\n",
        "lastname = input(\"Input your Last Name : \")\n",
        "print (\"Hello  \" + lastname + \" \" + firstname)\n"
      ],
      "metadata": {
        "colab": {
          "base_uri": "https://localhost:8080/"
        },
        "id": "r2ZH2521Oa3K",
        "outputId": "67e59791-cb35-433b-a730-5b3f4159553d"
      },
      "execution_count": 8,
      "outputs": [
        {
          "output_type": "stream",
          "name": "stdout",
          "text": [
            "Input your First Name : Aviral\n",
            "Input your Last Name : Sharma\n",
            "Hello  Sharma Aviral\n"
          ]
        }
      ]
    },
    {
      "cell_type": "markdown",
      "source": [
        "Write a Python program to find the volume of a sphere with diameter 12 cm."
      ],
      "metadata": {
        "id": "MfekQbiNRHo4"
      }
    },
    {
      "cell_type": "code",
      "source": [
        "pi = 3.1415926535897931\n",
        "r= 12.0\n",
        "V= 4.0/3.0*pi* r**3\n",
        "print('The volume of the sphere is: ',V)"
      ],
      "metadata": {
        "colab": {
          "base_uri": "https://localhost:8080/"
        },
        "id": "VliTdUHTPo-M",
        "outputId": "4a275a63-e745-4c83-f900-02b5caba3b87"
      },
      "execution_count": 9,
      "outputs": [
        {
          "output_type": "stream",
          "name": "stdout",
          "text": [
            "The volume of the sphere is:  7238.229473870882\n"
          ]
        }
      ]
    }
  ]
}