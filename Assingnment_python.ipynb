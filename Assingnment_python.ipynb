{
  "nbformat": 4,
  "nbformat_minor": 0,
  "metadata": {
    "colab": {
      "name": "Assingnment_python.ipynb",
      "provenance": []
    },
    "kernelspec": {
      "name": "python3",
      "display_name": "Python 3"
    },
    "language_info": {
      "name": "python"
    }
  },
  "cells": [
    {
      "cell_type": "markdown",
      "source": [
        "1.1 Write a Python Program(with class concepts) to find the area of the triangle using the below\n",
        "formula.\n",
        "area = (s*(s-a)*(s-b)*(s-c)) ** 0.5\n",
        "Function to take the length of the sides of triangle from user should be defined in the parent\n",
        "class and function to calculate the area should be defined in subclass."
      ],
      "metadata": {
        "id": "WHnGH3HuUWbI"
      }
    },
    {
      "cell_type": "code",
      "source": [
        "class Triangle:\n",
        " def __init__(self, side1, side2, side3):\n",
        "  self.side1 = side1\n",
        "  self.side2 = side2\n",
        "  self.side3 = side3\n",
        "  print (\"Initialised Triagle super class [\" +  str(side1) + \",\" + str(side2) + \",\" + str(side3) + \"]\")\n",
        "\n",
        "class Triangle_Utilities(Triangle):\n",
        " \n",
        " def __init__(self, side1, side2, side3):\n",
        "  print (\"Initialised Utils Child class\" )\n",
        "  super(Triangle_Utilities, self).__init__(side1, side2, side3)\n",
        "\n",
        " def get_area(self):\n",
        "  s = (self.side1 + self.side2 + self.side3)/2\n",
        "  print (str(s))\n",
        "  return (s*(s-self.side1)*(s-self.side2)*(s-self.side3))**0.5\n",
        "\n",
        "instance = Triangle_Utilities(3,4,5)\n",
        "print (\"Area of triangle = \" + str(instance.get_area()) )"
      ],
      "metadata": {
        "colab": {
          "base_uri": "https://localhost:8080/"
        },
        "id": "_e4x_rmwSFjz",
        "outputId": "63dac967-c51f-45f6-9c34-f7841af31dfb"
      },
      "execution_count": 21,
      "outputs": [
        {
          "output_type": "stream",
          "name": "stdout",
          "text": [
            "Initialised Utils Child class\n",
            "Initialised Triagle super class [3,4,5]\n",
            "6.0\n",
            "Area of triangle = 6.0\n"
          ]
        }
      ]
    },
    {
      "cell_type": "markdown",
      "source": [
        "1.2 Write a function filter_long_words() that takes a list of words and an integer n and returns\n",
        "the list of words that are longer than n."
      ],
      "metadata": {
        "id": "K2R9tQ5DUcdu"
      }
    },
    {
      "cell_type": "code",
      "source": [
        "class list_Utilities:\n",
        " def __init__(self, wordlist):\n",
        "  self.wordlist = wordlist\n",
        "  print (\"Initialised list_Utilities object\")\n",
        "\n",
        " def filter_long_words(self, n):\n",
        "  return list(filter(lambda x:len(x) > n, self.wordlist))\n",
        "\n",
        "instance = list_Utilities([\"This\",\"is\",\"a\",\"beautiful\",\"day\"])\n",
        "print (\"New List of Words  => \" + str(instance.filter_long_words(3)) ) "
      ],
      "metadata": {
        "colab": {
          "base_uri": "https://localhost:8080/"
        },
        "id": "x7O1Z-wWUPG5",
        "outputId": "dbc89ca6-5a7b-4611-fddc-bf22cbc3fedc"
      },
      "execution_count": 22,
      "outputs": [
        {
          "output_type": "stream",
          "name": "stdout",
          "text": [
            "Initialised list_Utilities object\n",
            "New List of Words  => ['This', 'beautiful']\n"
          ]
        }
      ]
    },
    {
      "cell_type": "markdown",
      "source": [
        "Write a Python program using function concept that maps list of words into a list of integers\n",
        "representing the lengths of the corresponding words.\n"
      ],
      "metadata": {
        "id": "gegCLqnhUUxB"
      }
    },
    {
      "cell_type": "code",
      "source": [
        "def map_to_lengths_for(words):\n",
        "    lengths = []\n",
        "    for word in words:\n",
        "        lengths.append(len(word))\n",
        "    return lengths\n",
        "\n",
        "\n",
        "def map_to_lengths_map(words):\n",
        "    return map(len, words)\n",
        "\n",
        "\n",
        "def map_to_lengths_lists(words):\n",
        "    return [len(word) for word in words]\n",
        "\n",
        "\n",
        "if __name__ == \"__main__\":\n",
        "    words = ['abv', 'try me', 'test']\n",
        "    print(map_to_lengths_for(words))\n",
        "    print(map_to_lengths_map(words))\n",
        "    print(map_to_lengths_lists(words))"
      ],
      "metadata": {
        "colab": {
          "base_uri": "https://localhost:8080/"
        },
        "id": "bkb_PcRpSPTz",
        "outputId": "11e5572a-ed6f-4b0e-c315-66d4bc5f35d6"
      },
      "execution_count": 13,
      "outputs": [
        {
          "output_type": "stream",
          "name": "stdout",
          "text": [
            "[3, 6, 4]\n",
            "<map object at 0x7fceb363d150>\n",
            "[3, 6, 4]\n"
          ]
        }
      ]
    },
    {
      "cell_type": "markdown",
      "source": [
        "2.2 Write a Python function which takes a character (i.e. a string of length 1) and returns True if\n",
        "it is a vowel, False otherwise."
      ],
      "metadata": {
        "id": "4Hw5GponUpkJ"
      }
    },
    {
      "cell_type": "code",
      "source": [
        "def is_vowel(char):\n",
        "    vowels = ('a', 'e', 'i', 'o', 'u')\n",
        "    if char not in vowels:\n",
        "        return False\n",
        "    return True\n",
        "\n",
        "\n",
        "if __name__ == \"__main__\":\n",
        "    print(is_vowel(1))\n",
        "    print(is_vowel('a'))\n",
        "    print(is_vowel('b'))"
      ],
      "metadata": {
        "colab": {
          "base_uri": "https://localhost:8080/"
        },
        "id": "k6Fke4rBSaEd",
        "outputId": "a60e888c-22d0-46a7-c575-2b14fc1644d6"
      },
      "execution_count": 24,
      "outputs": [
        {
          "output_type": "stream",
          "name": "stdout",
          "text": [
            "False\n",
            "True\n",
            "False\n"
          ]
        }
      ]
    },
    {
      "cell_type": "code",
      "source": [
        ""
      ],
      "metadata": {
        "id": "W9sM5FbIS7TU"
      },
      "execution_count": null,
      "outputs": []
    }
  ]
}