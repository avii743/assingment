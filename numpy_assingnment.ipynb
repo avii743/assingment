{
  "nbformat": 4,
  "nbformat_minor": 0,
  "metadata": {
    "colab": {
      "name": "numpy_assingnment.ipynb",
      "provenance": []
    },
    "kernelspec": {
      "name": "python3",
      "display_name": "Python 3"
    },
    "language_info": {
      "name": "python"
    }
  },
  "cells": [
    {
      "cell_type": "code",
      "execution_count": 3,
      "metadata": {
        "colab": {
          "base_uri": "https://localhost:8080/"
        },
        "id": "ypVj-6aeyJ6_",
        "outputId": "b520de7d-30e1-49f8-9151-3c6f392866be"
      },
      "outputs": [
        {
          "output_type": "stream",
          "name": "stdout",
          "text": [
            "[  5.           4.66666667   5.66666667   6.66666667   9.66666667\n",
            "  28.66666667  49.33333333  72.66666667  84.          93.33333333\n",
            " 116.33333333]\n"
          ]
        }
      ],
      "source": [
        "def moving_avg (x,n=3):\n",
        "  cum_sum = np.cumsum(x,dtype=float)\n",
        "  cum_sum[n:]= cum_sum[n:] - cum_sum[:-n]\n",
        "  return cum_sum[n-1:] / n\n",
        "\n",
        "x = [3, 5, 7, 2, 8, 10, 11, 65, 72, 81, 99, 100, 150]\n",
        "print(moving_avg(x,n=3))"
      ]
    },
    {
      "cell_type": "code",
      "source": [
        ""
      ],
      "metadata": {
        "id": "i88ghWduyTRP"
      },
      "execution_count": null,
      "outputs": []
    }
  ]
}